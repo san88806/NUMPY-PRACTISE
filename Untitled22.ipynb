{
  "cells": [
    {
      "cell_type": "markdown",
      "metadata": {
        "id": "view-in-github",
        "colab_type": "text"
      },
      "source": [
        "<a href=\"https://colab.research.google.com/github/san88806/NUMPY-PRACTISE/blob/main/Untitled22.ipynb\" target=\"_parent\"><img src=\"https://colab.research.google.com/assets/colab-badge.svg\" alt=\"Open In Colab\"/></a>"
      ]
    },
    {
      "cell_type": "code",
      "execution_count": null,
      "metadata": {
        "colab": {
          "background_save": true,
          "base_uri": "https://localhost:8080/"
        },
        "id": "8SvfACT2afVG",
        "outputId": "20c0aa98-96f2-4629-c90d-11c3605bcf46"
      },
      "outputs": [
        {
          "data": {
            "text/plain": [
              "[['Temprature Sheet',\n",
              "  '',\n",
              "  '',\n",
              "  '',\n",
              "  '',\n",
              "  '',\n",
              "  '',\n",
              "  '',\n",
              "  '',\n",
              "  '',\n",
              "  '',\n",
              "  '',\n",
              "  '',\n",
              "  '',\n",
              "  '',\n",
              "  ''],\n",
              " ['', '', '', '', '', '', '', '', '', '', '', '', '', '', '', ''],\n",
              " ['Month',\n",
              "  'Week',\n",
              "  'Monday',\n",
              "  '',\n",
              "  'Tuesday',\n",
              "  '',\n",
              "  'Wednesday',\n",
              "  '',\n",
              "  'Thursday',\n",
              "  '',\n",
              "  'Friday',\n",
              "  '',\n",
              "  'Saturday',\n",
              "  '',\n",
              "  'Sunday',\n",
              "  ''],\n",
              " ['November',\n",
              "  '',\n",
              "  'Min Temp',\n",
              "  'Max Temp',\n",
              "  'Min Temp',\n",
              "  'Max Temp',\n",
              "  'Min Temp',\n",
              "  'Max Temp',\n",
              "  'Min Temp',\n",
              "  'Max Temp',\n",
              "  'Min Temp',\n",
              "  'Max Temp',\n",
              "  'Min Temp',\n",
              "  'Max Temp',\n",
              "  'Min Temp',\n",
              "  'Max Temp'],\n",
              " ['',\n",
              "  'Week 1',\n",
              "  '13',\n",
              "  '29',\n",
              "  '8',\n",
              "  '20',\n",
              "  '15',\n",
              "  '27',\n",
              "  '6',\n",
              "  '22',\n",
              "  '8',\n",
              "  '22',\n",
              "  '8',\n",
              "  '29',\n",
              "  '11',\n",
              "  '29'],\n",
              " ['',\n",
              "  'Week 2',\n",
              "  '13',\n",
              "  '31',\n",
              "  '10',\n",
              "  '24',\n",
              "  '9',\n",
              "  '23',\n",
              "  '-13',\n",
              "  '20',\n",
              "  '9',\n",
              "  '24',\n",
              "  '13',\n",
              "  '23',\n",
              "  '6',\n",
              "  '27'],\n",
              " ['',\n",
              "  'Week 3',\n",
              "  '14',\n",
              "  '29',\n",
              "  '15',\n",
              "  '21',\n",
              "  '13',\n",
              "  '29',\n",
              "  '6',\n",
              "  '20',\n",
              "  '10',\n",
              "  '24',\n",
              "  '7',\n",
              "  '20',\n",
              "  '15',\n",
              "  '24'],\n",
              " ['',\n",
              "  'Week 4',\n",
              "  '7',\n",
              "  '22',\n",
              "  '15',\n",
              "  '25',\n",
              "  '12',\n",
              "  '21',\n",
              "  '13',\n",
              "  '28',\n",
              "  '8',\n",
              "  '29',\n",
              "  '12',\n",
              "  '23',\n",
              "  '12',\n",
              "  '27'],\n",
              " ['December',\n",
              "  'Week 1',\n",
              "  '10',\n",
              "  '31',\n",
              "  '10',\n",
              "  '24',\n",
              "  '12',\n",
              "  '24',\n",
              "  '6',\n",
              "  '25',\n",
              "  '9',\n",
              "  '25',\n",
              "  '14',\n",
              "  '23',\n",
              "  '10',\n",
              "  '27'],\n",
              " ['',\n",
              "  'Week 2',\n",
              "  '15',\n",
              "  '27',\n",
              "  '15',\n",
              "  '29',\n",
              "  '8',\n",
              "  '32',\n",
              "  '13',\n",
              "  '28',\n",
              "  '6',\n",
              "  '27',\n",
              "  '8',\n",
              "  '21',\n",
              "  '10',\n",
              "  '30'],\n",
              " ['',\n",
              "  'Week 3',\n",
              "  '14',\n",
              "  '25',\n",
              "  '12',\n",
              "  '20',\n",
              "  '14',\n",
              "  '22',\n",
              "  '10',\n",
              "  '27',\n",
              "  '9',\n",
              "  '21',\n",
              "  '14',\n",
              "  '24',\n",
              "  '12',\n",
              "  '22'],\n",
              " ['',\n",
              "  'Week 4',\n",
              "  '11',\n",
              "  '29',\n",
              "  '15',\n",
              "  '24',\n",
              "  '12',\n",
              "  '29',\n",
              "  '13',\n",
              "  '23',\n",
              "  '15',\n",
              "  '20',\n",
              "  '6',\n",
              "  '27',\n",
              "  '7',\n",
              "  '22'],\n",
              " ['January',\n",
              "  'Week 1',\n",
              "  '6',\n",
              "  '21',\n",
              "  '2',\n",
              "  '20',\n",
              "  '8',\n",
              "  '19',\n",
              "  '8',\n",
              "  '21',\n",
              "  '6',\n",
              "  '21',\n",
              "  '4',\n",
              "  '5',\n",
              "  '20',\n",
              "  '8'],\n",
              " ['',\n",
              "  'Week 2',\n",
              "  '3',\n",
              "  '20',\n",
              "  '4',\n",
              "  '18',\n",
              "  '4',\n",
              "  '19',\n",
              "  '4',\n",
              "  '19',\n",
              "  '8',\n",
              "  '22',\n",
              "  '8',\n",
              "  '2',\n",
              "  '21',\n",
              "  '6'],\n",
              " ['',\n",
              "  'Week 3',\n",
              "  '4',\n",
              "  '22',\n",
              "  '4',\n",
              "  '21',\n",
              "  '6',\n",
              "  '22',\n",
              "  '7',\n",
              "  '22',\n",
              "  '6',\n",
              "  '22',\n",
              "  '8',\n",
              "  '7',\n",
              "  '19',\n",
              "  '7'],\n",
              " ['',\n",
              "  'Week 4',\n",
              "  '2',\n",
              "  '18',\n",
              "  '2',\n",
              "  '18',\n",
              "  '2',\n",
              "  '22',\n",
              "  '5',\n",
              "  '20',\n",
              "  '6',\n",
              "  '18',\n",
              "  '8',\n",
              "  '8',\n",
              "  '18',\n",
              "  '6'],\n",
              " ['February',\n",
              "  'Week 1',\n",
              "  '11',\n",
              "  '22',\n",
              "  '9',\n",
              "  '19',\n",
              "  '-10',\n",
              "  '18',\n",
              "  '9',\n",
              "  '18',\n",
              "  '9',\n",
              "  '21',\n",
              "  '7',\n",
              "  '71',\n",
              "  '21',\n",
              "  '11'],\n",
              " ['',\n",
              "  'Week 2',\n",
              "  '7',\n",
              "  '21',\n",
              "  '12',\n",
              "  '21',\n",
              "  '10',\n",
              "  '19',\n",
              "  '9',\n",
              "  '18',\n",
              "  '12',\n",
              "  '20',\n",
              "  '12',\n",
              "  '9',\n",
              "  '19',\n",
              "  '9'],\n",
              " ['',\n",
              "  'Week 3',\n",
              "  '9',\n",
              "  '20',\n",
              "  '9',\n",
              "  '18',\n",
              "  '12',\n",
              "  '20',\n",
              "  '9',\n",
              "  '18',\n",
              "  '9',\n",
              "  '21',\n",
              "  '9',\n",
              "  '8',\n",
              "  '18',\n",
              "  '11'],\n",
              " ['',\n",
              "  'Week 4',\n",
              "  '12',\n",
              "  '21',\n",
              "  '10',\n",
              "  '20',\n",
              "  '11',\n",
              "  '20',\n",
              "  '8',\n",
              "  '21',\n",
              "  '9',\n",
              "  '22',\n",
              "  '9',\n",
              "  '11',\n",
              "  '20',\n",
              "  '7']]"
            ]
          },
          "execution_count": 26,
          "metadata": {},
          "output_type": "execute_result"
        }
      ],
      "source": [
        "import csv\n",
        "import numpy as np\n",
        "data=[]\n",
        "with open('SampleTemperature Sheet - mysheet.csv','r')as csvfile:\n",
        "  filereader=csv.reader(csvfile,delimiter=',')\n",
        "  for row in filereader:\n",
        "    data.append(row)\n",
        "data    "
      ]
    },
    {
      "cell_type": "code",
      "execution_count": null,
      "metadata": {
        "colab": {
          "background_save": true,
          "base_uri": "https://localhost:8080/"
        },
        "id": "bwh2WgpjdtAt",
        "outputId": "b2cf89bf-e485-4c40-8617-acaeffbc9c7e"
      },
      "outputs": [
        {
          "data": {
            "text/plain": [
              "array([['Temprature Sheet', '', '', '', '', '', '', '', '', '', '', '',\n",
              "        '', '', '', ''],\n",
              "       ['', '', '', '', '', '', '', '', '', '', '', '', '', '', '', ''],\n",
              "       ['Month', 'Week', 'Monday', '', 'Tuesday', '', 'Wednesday', '',\n",
              "        'Thursday', '', 'Friday', '', 'Saturday', '', 'Sunday', ''],\n",
              "       ['November', '', 'Min Temp', 'Max Temp', 'Min Temp', 'Max Temp',\n",
              "        'Min Temp', 'Max Temp', 'Min Temp', 'Max Temp', 'Min Temp',\n",
              "        'Max Temp', 'Min Temp', 'Max Temp', 'Min Temp', 'Max Temp'],\n",
              "       ['', 'Week 1', '13', '29', '8', '20', '15', '27', '6', '22', '8',\n",
              "        '22', '8', '29', '11', '29'],\n",
              "       ['', 'Week 2', '13', '31', '10', '24', '9', '23', '-13', '20',\n",
              "        '9', '24', '13', '23', '6', '27'],\n",
              "       ['', 'Week 3', '14', '29', '15', '21', '13', '29', '6', '20',\n",
              "        '10', '24', '7', '20', '15', '24'],\n",
              "       ['', 'Week 4', '7', '22', '15', '25', '12', '21', '13', '28', '8',\n",
              "        '29', '12', '23', '12', '27'],\n",
              "       ['December', 'Week 1', '10', '31', '10', '24', '12', '24', '6',\n",
              "        '25', '9', '25', '14', '23', '10', '27'],\n",
              "       ['', 'Week 2', '15', '27', '15', '29', '8', '32', '13', '28', '6',\n",
              "        '27', '8', '21', '10', '30'],\n",
              "       ['', 'Week 3', '14', '25', '12', '20', '14', '22', '10', '27',\n",
              "        '9', '21', '14', '24', '12', '22'],\n",
              "       ['', 'Week 4', '11', '29', '15', '24', '12', '29', '13', '23',\n",
              "        '15', '20', '6', '27', '7', '22'],\n",
              "       ['January', 'Week 1', '6', '21', '2', '20', '8', '19', '8', '21',\n",
              "        '6', '21', '4', '5', '20', '8'],\n",
              "       ['', 'Week 2', '3', '20', '4', '18', '4', '19', '4', '19', '8',\n",
              "        '22', '8', '2', '21', '6'],\n",
              "       ['', 'Week 3', '4', '22', '4', '21', '6', '22', '7', '22', '6',\n",
              "        '22', '8', '7', '19', '7'],\n",
              "       ['', 'Week 4', '2', '18', '2', '18', '2', '22', '5', '20', '6',\n",
              "        '18', '8', '8', '18', '6'],\n",
              "       ['February', 'Week 1', '11', '22', '9', '19', '-10', '18', '9',\n",
              "        '18', '9', '21', '7', '71', '21', '11'],\n",
              "       ['', 'Week 2', '7', '21', '12', '21', '10', '19', '9', '18', '12',\n",
              "        '20', '12', '9', '19', '9'],\n",
              "       ['', 'Week 3', '9', '20', '9', '18', '12', '20', '9', '18', '9',\n",
              "        '21', '9', '8', '18', '11'],\n",
              "       ['', 'Week 4', '12', '21', '10', '20', '11', '20', '8', '21', '9',\n",
              "        '22', '9', '11', '20', '7']], dtype='<U16')"
            ]
          },
          "execution_count": 27,
          "metadata": {},
          "output_type": "execute_result"
        }
      ],
      "source": [
        "data=np.array(data)\n",
        "data"
      ]
    },
    {
      "cell_type": "code",
      "execution_count": null,
      "metadata": {
        "colab": {
          "background_save": true,
          "base_uri": "https://localhost:8080/"
        },
        "id": "xzdsHlBDdMsc",
        "outputId": "d0ecb346-9e98-428e-cb94-58a24068fff2"
      },
      "outputs": [
        {
          "data": {
            "text/plain": [
              "(20, 16)"
            ]
          },
          "execution_count": 28,
          "metadata": {},
          "output_type": "execute_result"
        }
      ],
      "source": [
        "data.shape"
      ]
    },
    {
      "cell_type": "code",
      "execution_count": null,
      "metadata": {
        "colab": {
          "background_save": true,
          "base_uri": "https://localhost:8080/"
        },
        "id": "pnm6YGeldwdc",
        "outputId": "a7579bef-d044-4d5a-a1e5-a7306e5a5d82"
      },
      "outputs": [
        {
          "data": {
            "text/plain": [
              "2"
            ]
          },
          "execution_count": 29,
          "metadata": {},
          "output_type": "execute_result"
        }
      ],
      "source": [
        "data.ndim"
      ]
    },
    {
      "cell_type": "code",
      "execution_count": null,
      "metadata": {
        "colab": {
          "background_save": true,
          "base_uri": "https://localhost:8080/"
        },
        "id": "V3N40eC6vb_A",
        "outputId": "b03d639f-9523-449e-8f57-b546e9c41842"
      },
      "outputs": [
        {
          "data": {
            "text/plain": [
              "numpy.str_"
            ]
          },
          "execution_count": 30,
          "metadata": {},
          "output_type": "execute_result"
        }
      ],
      "source": [
        "data.dtype.type"
      ]
    },
    {
      "cell_type": "code",
      "execution_count": null,
      "metadata": {
        "colab": {
          "background_save": true
        },
        "id": "TKIMGXOvxB8X"
      },
      "outputs": [],
      "source": [
        "data[0]"
      ]
    },
    {
      "cell_type": "code",
      "execution_count": null,
      "metadata": {
        "colab": {
          "background_save": true,
          "base_uri": "https://localhost:8080/",
          "height": 130
        },
        "id": "Ru9lAaEszboR",
        "outputId": "d62ba86e-d26d-49f6-d6f5-fd6f255ebb79"
      },
      "outputs": [
        {
          "data": {
            "text/plain": [
              "array([['', 'Week 1', '13', '29', '8', '20', '15', '27', '6', '22', '8',\n",
              "        '22', '8', '29', '11', '29'],\n",
              "       ['December', 'Week 1', '10', '31', '10', '24', '12', '24', '6',\n",
              "        '25', '9', '25', '14', '23', '10', '27'],\n",
              "       ['January', 'Week 1', '6', '21', '2', '20', '8', '19', '8', '21',\n",
              "        '6', '21', '4', '5', '20', '8'],\n",
              "       ['February', 'Week 1', '11', '22', '9', '19', '-10', '18', '9',\n",
              "        '18', '9', '21', '7', '71', '21', '11']], dtype='<U16')"
            ]
          },
          "execution_count": 31,
          "metadata": {},
          "output_type": "execute_result"
        }
      ],
      "source": [
        "# Print the daily temperatures for the first week of each month\n",
        "week_days = [\"Monday\", \"Tuesday\", \"Wednesday\", \"Thursday\", \"Friday\", \"Saturday\", \"Sunday\"]\n",
        "print (\"Day\" + (\" \"*12) + \"High Temperature\")\n",
        "print(\"-\"*30)\n",
        "temperature = []\n",
        "temp = 0\n",
        "spaces = 0\n",
        "\n",
        "for i in range (len(week_days)):\n",
        "    temp_input = input (\"Enter the temperature for\" +week_days[i]+str(\":\"))\n",
        "    temperature.append(temp_input)\n",
        "    spaces = 15-len(week_days[i])\n",
        "\n",
        "\n",
        "\n"
      ]
    },
    {
      "cell_type": "markdown",
      "metadata": {
        "id": "hDvWEhpodv1p"
      },
      "source": []
    },
    {
      "cell_type": "markdown",
      "metadata": {
        "id": "QbS_yOD7c8Sf"
      },
      "source": []
    }
  ],
  "metadata": {
    "colab": {
      "provenance": [],
      "authorship_tag": "ABX9TyNG5NEoSi+ez35sQRAlDrqo",
      "include_colab_link": true
    },
    "kernelspec": {
      "display_name": "Python 3",
      "name": "python3"
    },
    "language_info": {
      "name": "python"
    }
  },
  "nbformat": 4,
  "nbformat_minor": 0
}